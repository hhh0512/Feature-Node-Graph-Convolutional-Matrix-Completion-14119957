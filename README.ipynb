{
  "cells": [
    {
      "cell_type": "markdown",
      "source": [
        "# Project Overview\n",
        "This project investigates matrix completion through both baseline methods and a novel feature-enhanced approach.  \n",
        "- I reproduced and tuned **GCMC** and **Funk-SVD** as baselines, extending them with visualization and feature-aware adaptations.  \n",
        "- I proposed and implemented the **Feature Node GCMC** model, which introduces feature nodes into a tripartite graph and redesigns message passing, making side information an integral part of the propagation process.  \n",
        "- These contributions highlight not only the replication of existing methods but also my own design and improvement of graph-based matrix completion models.  \n",
        "\n",
        "---\n",
        "\n",
        "# Repository Structure\n",
        "\n",
        "## GCMC and SVD\n",
        "This folder documents my baseline exploration and extensions.\n",
        "\n",
        "- **GCMC**\n",
        "  - Reproduced the original implementation and performed hyperparameter tuning.  \n",
        "  - Developed a workflow to map prediction results back to user–item indices.  \n",
        "  - Built a visualization-based recommendation system based on the recovered indices.  \n",
        "\n",
        "- **SVD**\n",
        "  - Implemented Funk-SVD for the matrix completion task.  \n",
        "  - Extended Funk-SVD by integrating user and item side features into the factorization process.  \n",
        "  - Evaluated the effect of feature-aware factorization on matrix completion performance.  \n",
        "\n",
        "## Feature Node GCMC\n",
        "This folder contains my main contribution.\n",
        "\n",
        "- Redesigned the data modeling schema by introducing **feature nodes**, constructing a tripartite user–item–feature graph.  \n",
        "- Modified the message passing mechanism in graph convolution so that features directly participate in propagation.  \n",
        "- Designed and implemented the **Feature Node GCMC** model as the core improvement of this project.  \n",
        "\n",
        "\n",
        "\n",
        "---\n",
        "\n",
        "# Usage\n",
        "The following commands show how to run each model.  \n",
        "You can adjust the arguments (e.g., number of epochs, hidden dimensions, latent factors) according to your experimental needs.  \n",
        "Each folder also provides supporting scripts for visualization and evaluation of the recommendation results.\n",
        "\n"
      ],
      "metadata": {
        "id": "9K8hjuRWIMdd"
      }
    },
    {
      "cell_type": "code",
      "source": [
        "# Mount Google Drive to access files in Colab\n",
        "from google.colab import drive\n",
        "drive.mount('/content/drive')"
      ],
      "metadata": {
        "colab": {
          "base_uri": "https://localhost:8080/"
        },
        "id": "rECC0EL3b6qV",
        "outputId": "c8b1ab0d-d209-462d-e842-8e0e0d1f72a9"
      },
      "execution_count": 2,
      "outputs": [
        {
          "output_type": "stream",
          "name": "stdout",
          "text": [
            "Mounted at /content/drive\n"
          ]
        }
      ]
    },
    {
      "cell_type": "code",
      "source": [
        "# change the working directory\n",
        "import os\n",
        "os.chdir('/content/drive/MyDrive/GCMC and SVD')\n",
        "print(os.getcwd())  #"
      ],
      "metadata": {
        "colab": {
          "base_uri": "https://localhost:8080/"
        },
        "id": "usFplUWnQgKb",
        "outputId": "574542e5-dd4f-4c13-a005-ad3606343c40"
      },
      "execution_count": null,
      "outputs": [
        {
          "output_type": "stream",
          "name": "stdout",
          "text": [
            "/content/drive/MyDrive/master project\n"
          ]
        }
      ]
    },
    {
      "cell_type": "code",
      "source": [
        "#GCMC without feature\n",
        "!python train.py -d ml_100k --accum stack -do 0.7 -nleft -nb 2 -e 1000 --testing  > ml_1m_testing.txt  > ml_100k_testing.txt  2>&1"
      ],
      "metadata": {
        "id": "QLinJocHQIFr"
      },
      "execution_count": null,
      "outputs": []
    },
    {
      "cell_type": "code",
      "source": [
        "#GCMC with feature\n",
        "!python train.py -d ml_100k --accum stack -do 0.7 -nleft -nb 2 -e 1000 --features --feat_hidden 10 --testing"
      ],
      "metadata": {
        "id": "IqpcjB2McE96"
      },
      "execution_count": null,
      "outputs": []
    },
    {
      "cell_type": "code",
      "source": [
        "# change the working directory\n",
        "import os\n",
        "os.chdir('/content/drive/MyDrive/GCMC and SVD/SVD')\n",
        "print(os.getcwd())  #"
      ],
      "metadata": {
        "colab": {
          "base_uri": "https://localhost:8080/"
        },
        "id": "7TtjRnHDcTqr",
        "outputId": "08f2d41b-483d-430f-f5a5-35c76847fcba"
      },
      "execution_count": null,
      "outputs": [
        {
          "output_type": "stream",
          "name": "stdout",
          "text": [
            "/content/drive/MyDrive/master project/SVD\n"
          ]
        }
      ]
    },
    {
      "cell_type": "code",
      "source": [
        "#funk SVD without feature\n",
        "!python svd_ml100k.py \\\n",
        "  --data_dir \"/content/drive/MyDrive/master project/data/ml_100k\" \\\n",
        "  --split 1 \\\n",
        "  --factors 64 \\\n",
        "  --lr 0.01 \\\n",
        "  --reg 0.02 \\\n",
        "  --epochs 20 \\\n",
        "  --seed 42"
      ],
      "metadata": {
        "id": "argkqMq1KuoA"
      },
      "execution_count": null,
      "outputs": []
    },
    {
      "cell_type": "code",
      "source": [
        "#funk SVD with fearture\n",
        "!python svd_ml100k_feat.py --data_dir \"/content/drive/MyDrive/master project/data/ml_100k\" --split 1 \\\n",
        "  --factors 64 --lr 0.01 --reg 0.02 --epochs 20 --seed 42 \\\n",
        "  --use_features 1 --feat_reg 0.01"
      ],
      "metadata": {
        "id": "PrkhuUq5NwL9"
      },
      "execution_count": null,
      "outputs": []
    },
    {
      "cell_type": "code",
      "source": [
        "# change the working directory\n",
        "import os\n",
        "os.chdir('/content/drive/MyDrive/Feature Node GCMC')\n",
        "print(os.getcwd())  #"
      ],
      "metadata": {
        "id": "PJIqWY-vZ6Ko"
      },
      "execution_count": null,
      "outputs": []
    },
    {
      "cell_type": "code",
      "source": [
        "#Feature Node GCMC\n",
        "!python train-6.py -d ml_100k -f --feature_nodes -ac stack -do 0.7 -nb 2 -e 1000 -t"
      ],
      "metadata": {
        "id": "rde02vZ1PDAB"
      },
      "execution_count": null,
      "outputs": []
    }
  ],
  "metadata": {
    "colab": {
      "provenance": []
    },
    "kernelspec": {
      "display_name": "Python 3",
      "name": "python3"
    }
  },
  "nbformat": 4,
  "nbformat_minor": 0
}